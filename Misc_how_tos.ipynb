{
 "cells": [
  {
   "cell_type": "markdown",
   "metadata": {},
   "source": [
    "# OH Scan\n",
    "These notes should help me run a gaussian scan of QOOH with___ in the second minimum sturcture. Scanning across the OH bond length, generating minimized structures at each bond length."
   ]
  },
  {
   "cell_type": "raw",
   "metadata": {},
   "source": [
    "# file path for same scan in lowest minima\n",
    "/gscratch/ilahie/mccoygrp/QOOH/OH_rxn_path"
   ]
  },
  {
   "cell_type": "code",
   "execution_count": null,
   "metadata": {},
   "outputs": [],
   "source": [
    "--Link1-- satarts a new job"
   ]
  },
  {
   "cell_type": "markdown",
   "metadata": {},
   "source": [
    "## How to generate coordinates"
   ]
  },
  {
   "cell_type": "code",
   "execution_count": null,
   "metadata": {},
   "outputs": [],
   "source": [
    "/gscratch/ilahie/mccoygrp/QOOH/anne_mark_messy_directory/qooh2.log"
   ]
  },
  {
   "cell_type": "markdown",
   "metadata": {},
   "source": [
    "pull from bottom of .log file to get more significant figures\n"
   ]
  },
  {
   "cell_type": "markdown",
   "metadata": {},
   "source": [
    "## How to start a Gaussian Job"
   ]
  },
  {
   "cell_type": "code",
   "execution_count": null,
   "metadata": {},
   "outputs": [],
   "source": []
  },
  {
   "cell_type": "markdown",
   "metadata": {},
   "source": [
    "## Vim tricks"
   ]
  },
  {
   "cell_type": "markdown",
   "metadata": {},
   "source": [
    "search: \"/phrase\" for top-down search \"?phrase\" for bottom-up and the \"n\" for next result"
   ]
  },
  {
   "cell_type": "code",
   "execution_count": null,
   "metadata": {},
   "outputs": [],
   "source": [
    "\"v\" to enter visual character mode, arrows to highlight text, d to delete"
   ]
  },
  {
   "cell_type": "markdown",
   "metadata": {},
   "source": [
    "# Run Gaussian Commands"
   ]
  },
  {
   "cell_type": "markdown",
   "metadata": {},
   "source": [
    "```module load contrib/g16.b01```"
   ]
  },
  {
   "cell_type": "markdown",
   "metadata": {},
   "source": [
    "# scp in zsh"
   ]
  },
  {
   "cell_type": "raw",
   "metadata": {},
   "source": [
    "- use \"\\\" to escape a * if doing something like..."
   ]
  },
  {
   "cell_type": "code",
   "execution_count": null,
   "metadata": {},
   "outputs": [],
   "source": [
    "scp -r cgavinh@mox.hyak.uw.edu:/gscratch/ilahie/mccoygrp/QOOH/OH_rnx_path/qooh2/\\*.fchk qooh2/"
   ]
  },
  {
   "cell_type": "markdown",
   "metadata": {},
   "source": [
    "# Git"
   ]
  },
  {
   "cell_type": "markdown",
   "metadata": {},
   "source": [
    "git rm"
   ]
  },
  {
   "cell_type": "markdown",
   "metadata": {},
   "source": [
    "    git config --global user.name \"Your Name\"\n",
    "    git config --global user.email you@example.com\n",
    "\n",
    "After doing this, you may fix the identity used for this commit with:\n",
    "\n",
    "    git commit --amend --reset-author"
   ]
  },
  {
   "cell_type": "markdown",
   "metadata": {},
   "source": [
    "## Bot"
   ]
  },
  {
   "cell_type": "markdown",
   "metadata": {},
   "source": [
    "b3m2a1+githubbot@uw.edu\n",
    "McCoyGroup_GitHub_98432"
   ]
  },
  {
   "cell_type": "markdown",
   "metadata": {},
   "source": [
    "# Build Node"
   ]
  },
  {
   "cell_type": "markdown",
   "metadata": {},
   "source": [
    "```. /gscratch/ilahie/mccoygrp/moxlib.sh; build_node```"
   ]
  },
  {
   "cell_type": "markdown",
   "metadata": {},
   "source": [
    "# Group Computers"
   ]
  },
  {
   "cell_type": "markdown",
   "metadata": {},
   "source": [
    "Ryan- hey, I think it's krypton but I can never remember if it's that or helium. Either way, you do ssh -p 48432 cgavinh@<computer>.chem.washington.edu\n",
    "\n",
    "10:34 AM\n",
    "you can also include the -X or -Y argument (I can never remember which one to use for which macbook) to include x-11 forwarding"
   ]
  },
  {
   "cell_type": "markdown",
   "metadata": {},
   "source": [
    "## jupyterlab widget"
   ]
  },
  {
   "cell_type": "markdown",
   "metadata": {},
   "source": [
    "I ran the following steps to get jupyter lab widgets (i.e interactive matplotlib) working. I am not sure the first blocks are useful, but I ran them and things are now working"
   ]
  },
  {
   "cell_type": "markdown",
   "metadata": {},
   "source": [
    "### First, conda remove node.js\n",
    "- conda installs an old version of node.js so I removed the package with the following command and downloaded the current version as a mac .pkg installer from the nodejs website\n",
    "    - \"conda uninstall --force nodejs\"\n",
    "- Then run the following steps\n",
    "    - conda install -y nodejs\n",
    "    - pip install ipympl\n",
    "    - pip install --upgrade jupyterlab\n",
    "    - jupyter labextension install @jupyter-widgets/jupyterlab-manager\n",
    "    - jupyter labextension install jupyter-matplotlib\n",
    "    - jupyter nbextension enable --py widgetsnbextension"
   ]
  },
  {
   "cell_type": "markdown",
   "metadata": {},
   "source": [
    "Then in jupyter lab include the following..."
   ]
  },
  {
   "cell_type": "code",
   "execution_count": null,
   "metadata": {},
   "outputs": [],
   "source": [
    "from mpl_toolkits import mplot3d\n",
    "%matplotlib widget"
   ]
  },
  {
   "cell_type": "markdown",
   "metadata": {},
   "source": []
  },
  {
   "cell_type": "code",
   "execution_count": null,
   "metadata": {},
   "outputs": [],
   "source": []
  }
 ],
 "metadata": {
  "kernelspec": {
   "display_name": "Python 3",
   "language": "python",
   "name": "python3"
  },
  "language_info": {
   "codemirror_mode": {
    "name": "ipython",
    "version": 3
   },
   "file_extension": ".py",
   "mimetype": "text/x-python",
   "name": "python",
   "nbconvert_exporter": "python",
   "pygments_lexer": "ipython3",
   "version": "3.8.8"
  }
 },
 "nbformat": 4,
 "nbformat_minor": 4
}
