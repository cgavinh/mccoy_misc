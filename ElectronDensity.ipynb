{
 "cells": [
  {
   "cell_type": "markdown",
   "id": "4d59bf32-1e03-4482-90cf-0b2cecce4882",
   "metadata": {},
   "source": [
    "Electron Density for some HOCl molecules"
   ]
  },
  {
   "cell_type": "markdown",
   "id": "80e75be2-3a5e-4850-ade7-d7633237fc41",
   "metadata": {},
   "source": [
    "# From Ryan"
   ]
  },
  {
   "cell_type": "markdown",
   "id": "a4f6a712-8bb0-4f1a-8859-d0d667ab7cb8",
   "metadata": {},
   "source": [
    "https://gaussian.com/cubegen/"
   ]
  },
  {
   "cell_type": "markdown",
   "id": "c435af15-e23f-45b6-abcc-b29e5248620d",
   "metadata": {},
   "source": [
    "- This would be a good place to start for the cubegen command:\n",
    "```cubegen 1 density=MP2 cl_hocl_tz.fchk cl_hocl_tz.cube```\n",
    "- where 1 can be replaced with 8  or however many processors you have access to, but there aren't that many points so it shouldn't take long regardless.\n",
    "- I can also send you the .py file we were looking at earlier if you think that would be helpful. I don't recommend trying to mold it for your use, but it may be a good starting point for you\n",
    "- If I had a lot of cubegens to run, I would put them in a bash script .sh file which may be helpful as well."
   ]
  },
  {
   "cell_type": "markdown",
   "id": "3182894e-4662-4211-a6bc-a23050e3510c",
   "metadata": {},
   "source": [
    "Here's that file I was showing earlier that is crap but has most of the code infrastructure already there. Instead of ctrl+c and ctrl+v-ing it, make sure you understand what's happening lol."
   ]
  },
  {
   "cell_type": "code",
   "execution_count": 3,
   "id": "77495a56-f5ca-45e8-b693-ccf6faac31c8",
   "metadata": {},
   "outputs": [],
   "source": [
    "# %load extractDensity.py\n",
    "import numpy as np\n",
    "import pandas as pd\n",
    "import matplotlib.pyplot as plt\n",
    "import matplotlib\n",
    "import scipy as sp\n",
    "from mpl_toolkits.mplot3d import Axes3D\n",
    "import numpy.linalg as la\n",
    "import sys \n",
    "\n",
    "def genXYZ(theta, XYZ):\n",
    "    \"\"\"Generates the 3D rotation matrix about X, Y, or Z by theta radians\"\"\"\n",
    "    theta = [theta] if isinstance(theta, float) else theta\n",
    "    rotM = np.zeros((len(theta), 3, 3))\n",
    "    zeroLth = np.zeros(len(theta))\n",
    "    if XYZ == 0:\n",
    "        rotM[:, 0] = np.tile([1, 0, 0], (len(theta)))\n",
    "        rotM[:, 1] = np.column_stack((zeroLth, np.cos(theta), -1 * np.sin(theta)))\n",
    "        rotM[:, 2] = np.column_stack((zeroLth, np.sin(theta), np.cos(theta)))\n",
    "    elif XYZ == 1:\n",
    "        rotM[:, 0] = np.column_stack((np.cos(theta), zeroLth, -1 * np.sin(theta)))\n",
    "        rotM[:, 1] = np.tile([0, 1, 0], len(theta), 1)\n",
    "        rotM[:, 2] = np.column_stack((np.sin(theta), zeroLth, np.cos(theta)))\n",
    "    elif XYZ == 2:\n",
    "        rotM[:, 0, :] = np.column_stack((np.cos(theta), -1 * np.sin(theta), zeroLth))\n",
    "        rotM[:, 1, :] = np.column_stack((np.sin(theta), np.cos(theta), zeroLth))\n",
    "        rotM[:, 2, :] = np.tile([0, 0, 1], len(theta))\n",
    "    return rotM\n",
    "\n",
    "\n",
    "def rotateGeoms(rotMs, geoms):\n",
    "    \"\"\"Takes in a stack of rotation matrices and applies it to a stack of geometries.\"\"\"\n",
    "    if len(rotMs.shape) == 2:\n",
    "        rotMs = np.expand_dims(rotMs,0)\n",
    "    if len(geoms.shape) == 2:\n",
    "        geoms = np.expand_dims(geoms,0)\n",
    "    new_geoms = np.expand_dims(geoms, -1)  # nxmx3x1\n",
    "    new_rotms = np.expand_dims(rotMs, 1)  # nx1x3x3\n",
    "    rot_geoms = np.matmul(new_rotms, new_geoms)\n",
    "    return rot_geoms.squeeze()\n",
    "\n",
    "def rotateVector(rotMs, vecc):\n",
    "    \"\"\"Takes in a stack of rotation matrices and applies it to a stack of vector\"\"\"\n",
    "    new_vecc = np.expand_dims(vecc, -1)  # nx3x1\n",
    "    rot_vecs = np.matmul(rotMs, new_vecc).squeeze()\n",
    "    return rot_vecs\n",
    "\n",
    "\n",
    "def plotScatter3DDensity(arrZ,densityZ,atmArZ, flname):\n",
    "    # dmax = np.amax(density)\n",
    "    # dmin = np.amin(density)\n",
    "    # vdata = np.amax([np.abs(dmin),np.abs(dmax)])\n",
    "    fig = plt.figure()\n",
    "    ax = fig.gca(projection='3d')\n",
    "    densityZ[np.abs(densityZ) < 0.001] = np.nan\n",
    "    ax.scatter(arrZ[0], arrZ[1], arrZ[2], cmap='seismic', c=densityZ.flatten(), alpha=0.1)\n",
    "    for inum, i in enumerate(atmArZ):\n",
    "        if atmStr[inum] == 'O':\n",
    "            ax.scatter(i[0], i[1], i[2], c='r', s=200, alpha=1.0)\n",
    "        else:\n",
    "            ax.scatter(i[0], i[1], i[2], c='grey', s=200, alpha=1.0)\n",
    "    ax.set_xlabel(\"X\")\n",
    "    ax.set_ylabel(\"Y\")\n",
    "    ax.set_zlabel(\"Z\")\n",
    "    plt.show()\n",
    "    # plt.savefig(flname+\".png\")\n",
    "    plt.close()\n",
    "\n",
    "def rotToXAx(arrOld,atmArOld,origN,xaxN,xyp=None):\n",
    "    originC = atmAr[origN]\n",
    "    arrOld[0] -= originC[0]\n",
    "    arrOld[1] -= originC[1]\n",
    "    arrOld[2] -= originC[2]\n",
    "    atmAr2 = np.copy(atmArOld)\n",
    "    atmAr2 -= originC[np.newaxis, :]\n",
    "    xaxNew = atmArOld[xaxN]-originC\n",
    "\n",
    "    xc = xaxNew[0]\n",
    "    yc = xaxNew[1]\n",
    "    zc = xaxNew[2]\n",
    "    theta = np.arctan2(-zc, yc)\n",
    "    alpha = np.arctan2((-1 * (yc * np.cos(theta) - np.sin(theta) * zc)), xc)\n",
    "    r1 = genXYZ(theta, 0).squeeze()\n",
    "    r2 = genXYZ(alpha, 2).squeeze()\n",
    "    rotM = np.matmul(r2, r1)\n",
    "    xf = arrOld[0].flatten()\n",
    "    yf = arrOld[1].flatten()\n",
    "    zf = arrOld[2].flatten()\n",
    "    xyzf = np.array((xf, yf, zf)).T\n",
    "    rotXYZF = rotateVector(rotM, xyzf)\n",
    "    # atmArN = rotateGeoms(rotM, atmArOld)\n",
    "    atmArN = rotateGeoms(rotM, atmAr2)\n",
    "    if xyp is None:\n",
    "        xrf = np.reshape(rotXYZF[:, 0], ndim)\n",
    "        yrf = np.reshape(rotXYZF[:, 1], ndim)\n",
    "        zrf = np.reshape(rotXYZF[:, 2], ndim)\n",
    "\n",
    "    else:\n",
    "        xypVec = atmArN[xyp]\n",
    "        z = xypVec[2]\n",
    "        y = xypVec[1]\n",
    "        beta = np.arctan2(-1 * z, y)\n",
    "        r3 = genXYZ(beta,0).squeeze()\n",
    "        rotXYZFF = rotateVector(r3, rotXYZF)\n",
    "        atmArN = rotateGeoms(r3,atmArN)\n",
    "        xrf = np.reshape(rotXYZFF[:, 0], ndim)\n",
    "        yrf = np.reshape(rotXYZFF[:, 1], ndim)\n",
    "        zrf = np.reshape(rotXYZFF[:, 2], ndim)\n",
    "    arrp = [xrf, yrf, zrf]\n",
    "    return arrp,atmArN\n",
    "    \n",
    "def integrateWithCylinder(myMesh,\n",
    "                          myAtmCds,\n",
    "                          myCylrad,\n",
    "                          origN,\n",
    "                          xaxiN,\n",
    "                          nbinz,\n",
    "                          myshiftL,\n",
    "                          myshiftR,\n",
    "                          myAtmStr,\n",
    "                          flnPng,\n",
    "                          split=False):\n",
    "    pltSave=False\n",
    "    # integrate along oo axis the electron density\n",
    "    xyzR = np.array((myMesh[0].flatten(),\n",
    "                     myMesh[1].flatten(),\n",
    "                     myMesh[2].flatten())).T\n",
    "    # dx = np.abs(xyzR[1,0]-xyzR[0,0])\n",
    "    # dy = np.abs(xyzR[1,1]-xyzR[0,1])\n",
    "    # dz = np.abs(xyzR[1,2]-xyzR[0,2])\n",
    "    # print(\"DXDYDZ\",dx,dy,dz,dx*dy*dz)\n",
    "    qualYZ = np.sqrt(xyzR[:, 1] ** 2 + xyzR[:, 2] ** 2) <= myCylrad\n",
    "    xax = myAtmCds[xaxiN] - myAtmCds[origN]\n",
    "    theDist = la.norm(xax)\n",
    "    scanPts = np.linspace(0 - myshiftL, theDist + myshiftR, num=nbinz + 1)\n",
    "    centerz = 0.5 * (scanPts[1:] + scanPts[:-1])\n",
    "    pltData = np.zeros((len(centerz), 2))\n",
    "    print(\"SCANPT\",scanPts[1]-scanPts[0])\n",
    "    if not split:\n",
    "        for inum, i in enumerate(scanPts[:-1]):\n",
    "            qq = np.logical_and(i < xyzR[:, 0], xyzR[:, 0] < (i + 1))\n",
    "            denPt = np.sum(density.flatten()[qualYZ * qq])*dxO*dyO*dzO/(scanPts[1]-scanPts[0])\n",
    "            pltData[inum] = [centerz[inum], denPt]\n",
    "    else:\n",
    "        qualNY = xyzR[:, 1] < 0\n",
    "        qualPY = xyzR[:, 1] > 0\n",
    "        pltDataL = np.copy(pltData)\n",
    "        pltDataR = np.copy(pltData)\n",
    "        for inum, i in enumerate(scanPts[:-1]):\n",
    "            qq = np.logical_and(i < xyzR[:, 0], xyzR[:, 0] < (i + 1))\n",
    "            denPtR = np.sum(density.flatten()[qualPY*qualYZ * qq])*dxO*dyO*dzO*(scanPts[1]-scanPts[0])\n",
    "            denPtL = np.sum(density.flatten()[qualNY*qualYZ * qq])*dxO*dyO*dzO*(scanPts[1]-scanPts[0])\n",
    "            pltDataR[inum] = [centerz[inum], denPtR]\n",
    "            pltDataL[inum] = [centerz[inum], denPtL]\n",
    "\n",
    "    if origN == 4-1 and xaxi == 0:\n",
    "        Ohdist = la.norm(myAtmCds[4-1]-myAtmCds[6-1])\n",
    "        np.savetxt(flnPng+\"_OOHcds.txt\",np.array([0.0,theDist,Ohdist]))\n",
    "    else:\n",
    "        np.savetxt(flnPng+\"_OHcds.txt\",np.array([0.0,theDist]))\n",
    "    #save data\n",
    "    if not split:\n",
    "        np.savetxt(flnPng+\"_pltData.txt\",pltData)\n",
    "    else:\n",
    "        np.savetxt(flnPng + \"pltData_Left.txt\", pltDataL)\n",
    "        np.savetxt(flnPng + \"pltData_Right.txt\", pltDataR)\n",
    "\n",
    "\n",
    "class MidpointNormalize(matplotlib.colors.Normalize):\n",
    "    def __init__(self, vmin, vmax, midpoint=0, clip=False):\n",
    "        self.midpoint = midpoint\n",
    "        matplotlib.colors.Normalize.__init__(self, vmin, vmax, clip)\n",
    "\n",
    "    def __call__(self, value, clip=None):\n",
    "        normalized_min = max(0, 1 / 2 * (1 - abs((self.midpoint - self.vmin) / (self.midpoint - self.vmax))))\n",
    "        normalized_max = min(1, 1 / 2 * (1 + abs((self.vmax - self.midpoint) / (self.midpoint - self.vmin))))\n",
    "        normalized_mid = 0.5\n",
    "        x, y = [self.vmin, self.midpoint, self.vmax], [normalized_min, normalized_mid, normalized_max]\n",
    "        return sp.ma.masked_array(sp.interp(value, x, y))\n",
    "\n",
    "def TwoDProj(myMesh,\n",
    "             myAtmCds,\n",
    "             myCylrad,\n",
    "             origN,\n",
    "             xaxiN,\n",
    "             nbinz,\n",
    "             myshiftL,\n",
    "             myshiftR,\n",
    "             myAtmStr,\n",
    "             flnPng):\n",
    "    print('hi')\n",
    "    xyzR = np.array((myMesh[0].flatten(),\n",
    "                     myMesh[1].flatten(),\n",
    "                     myMesh[2].flatten())).T\n",
    "    xax = myAtmCds[xaxiN] - myAtmCds[origN]\n",
    "    theDist = xax[0]\n",
    "    xypA = myAtmCds[6-1]\n",
    "    # define a square (2d histogram) in the xy plane where we will sum up the z valz\n",
    "    scanPtsX = np.linspace(0 - myshiftL, theDist + myshiftR, num=nbinz + 1)\n",
    "    scanPtsY = np.linspace(0 - myshiftL, theDist + myshiftR, num=nbinz + 10)\n",
    "    centerzX = 0.5 * (scanPtsX[1:] + scanPtsX[:-1])\n",
    "    centerzY = 0.5 * (scanPtsY[1:] + scanPtsY[:-1])\n",
    "    twoDXY = np.meshgrid(scanPtsX,scanPtsY)\n",
    "    twoD = np.zeros((len(centerzX),len(centerzY)))\n",
    "    for inum,i in enumerate(scanPtsX[:-1]):\n",
    "        for jnum,j in enumerate(scanPtsY[:-1]):\n",
    "            qq = np.logical_and(i < xyzR[:, 0], xyzR[:, 0] < (i + 1))\n",
    "            rr = np.logical_and(j < xyzR[:,1], xyzR[:, 1] < (j + 1))\n",
    "            denPt = np.sum(density.flatten()[qq*rr])\n",
    "            twoD[inum,jnum] = denPt\n",
    "    plt.contour(centerzX,centerzY,twoD.T,levels=25,colors='k')\n",
    "    cmmr1 = matplotlib.cm.get_cmap('PRGn')\n",
    "    norm = MidpointNormalize(vmin=-0.75, vmax=4, midpoint=0)\n",
    "    plt.contourf(centerzX,centerzY,twoD.T,levels=25,cmap=cmmr1,norm=norm)\n",
    "    circle1 = plt.Circle((theDist, 0), 0.1, color='grey', fill=True)\n",
    "    circle2 = plt.Circle((xypA[0],xypA[1]),0.1, color='grey', fill=True)\n",
    "    circle3 = plt.Circle((0, 0), 0.1, color='r', fill=True)\n",
    "    plt.gcf().gca().add_artist(circle1)\n",
    "    plt.gcf().gca().add_artist(circle2)\n",
    "    plt.gcf().gca().add_artist(circle3)\n",
    "    plt.xlabel(\"X (Bohr)\")\n",
    "    plt.ylabel(\"Y (Bohr)\")\n",
    "    plt.colorbar()\n",
    "    plt.savefig(flnPng + \".png\", dpi=400)\n",
    "\n",
    "\n",
    "#~!~!~!~!~!~!~!~!~!~!~!~!~!~!~!~!~!~!~!~!~!~!~!~!~!~!~!~!~!~!~!~!~!~!~!~!~!~!~!~!~!\n",
    "atmDict = {1: 'H', \n",
    "           3: 'Li',\n",
    "           8: 'O',\n",
    "           11:'Na',\n",
    "           55: 'Cs'}\n",
    "fileOfInterest = sys.argv[1]\n",
    "print(fileOfInterest)\n",
    "cylCont = int(sys.argv[2])\n",
    "a = open(fileOfInterest,\"r\")\n",
    "lin = a.readlines()\n",
    "beginningE = int(lin[2].split()[0]) + 6\n",
    "linNum = 1\n",
    "atmCt = 0\n",
    "atmStr= []\n",
    "ndim= []\n",
    "delta = []\n",
    "gridN = 0\n",
    "for line in lin:\n",
    "    if linNum == 3:\n",
    "        splt = line.split()\n",
    "        info = [float(q) for q in splt]\n",
    "        \n",
    "        nAtoms = int(info[0])\n",
    "        atmAr = np.zeros((nAtoms,3))\n",
    "        # atmStr = np.tile([\"O\",\"H\",\"H\"],nAtoms//3)\n",
    "        origin = np.array(info[1:-1])\n",
    "    elif 4 <= linNum <= 6:\n",
    "        splt = line.split()\n",
    "        xyzZ = [float(q) for q in splt]\n",
    "        \n",
    "        ndim.append(int(xyzZ[0]))\n",
    "        if linNum == 4:\n",
    "            delta=xyzZ[1]\n",
    "    elif 7 <= linNum <= beginningE:\n",
    "        splt = line.split()\n",
    "        xyzZ = [float(q) for q in splt][1:]\n",
    "        atmStr.append(atmDict[int(splt[0])])\n",
    "        atmAr[atmCt] = xyzZ[1:]\n",
    "        atmCt+=1\n",
    "    elif linNum > beginningE:\n",
    "        pass\n",
    "    linNum+=1\n",
    "a.close()\n",
    "k =  pd.read_table(fileOfInterest,delim_whitespace=True,header=None, skiprows=np.arange(beginningE))\n",
    "xx=k.to_numpy()\n",
    "xxp = xx[np.logical_not(np.isnan(xx))]\n",
    "density = np.reshape(xxp,ndim)\n",
    "cds = np.zeros(xxp.shape)\n",
    "cdsX = np.linspace(origin[0],origin[0]+delta*ndim[0],num=ndim[0])\n",
    "cdsY = np.linspace(origin[1],origin[1]+delta*ndim[1],num=ndim[1])\n",
    "cdsZ = np.linspace(origin[2],origin[2]+delta*ndim[2],num=ndim[2])\n",
    "arr = np.meshgrid(cdsX,cdsY,cdsZ,indexing='ij')\n",
    "dxO = cdsX[1]-cdsX[0]\n",
    "dyO = cdsY[1]-cdsY[0]\n",
    "dzO = cdsZ[1]-cdsZ[0]\n",
    "print(\"DXDYDZO\",dxO,dyO,dzO,dxO*dyO*dzO)\n",
    "nbins = 40\n",
    "shiftL = 1.0\n",
    "shiftR = 1.0\n",
    "cylRad = 1.0\n",
    "#translate and rotate\n",
    "# plotScatter3DDensity(arrp,density,atmAr_tr,'test_rotate')\n",
    "\n",
    "if cylCont == 0: #Cylinder\n",
    "    orig = 4-1\n",
    "    # xaxi = 1-1\n",
    "    xaxi = 5-1\n",
    "    arrp,atmAr_tr = rotToXAx(arr,atmAr,orig,xaxi)\n",
    "    split=False\n",
    "    integrateWithCylinder(arrp,\n",
    "          atmAr_tr,\n",
    "          cylRad,\n",
    "          orig,\n",
    "          xaxi,\n",
    "          nbins,\n",
    "          shiftL,\n",
    "          shiftR,\n",
    "          atmStr,\n",
    "          fileOfInterest[:-5]+\"_\"+atmStr[orig]+str(orig+1)+atmStr[xaxi]+str(xaxi+1),\n",
    "          split)\n",
    "else:\n",
    "    orig = 4-1\n",
    "    xaxi = 5-1 #'free' OH\n",
    "    xyp = 1-1\n",
    "    shiftL = 0.5\n",
    "    shiftR = 0.5\n",
    "    arrp,atmAr_tr = rotToXAx(arr,atmAr,orig,xaxi,xyp)\n",
    "    TwoDProj(arrp,\n",
    "            atmAr_tr,\n",
    "            cylRad,\n",
    "            orig,\n",
    "            xaxi,\n",
    "            nbins,\n",
    "            shiftL,\n",
    "            shiftR,\n",
    "            atmStr,\n",
    "            fileOfInterest[:-5]+\"_\"+atmStr[orig]+str(orig+1)+atmStr[xaxi]+str(xaxi+1))\n",
    "\n",
    "\n",
    "\n",
    "\n",
    "\n"
   ]
  },
  {
   "cell_type": "markdown",
   "id": "8efd9633-a0fb-462f-baad-e680009f6582",
   "metadata": {},
   "source": [
    "# From Anne:"
   ]
  },
  {
   "cell_type": "markdown",
   "id": "6c248a45-d0c4-486e-9172-40984d28f8c7",
   "metadata": {},
   "source": [
    "I think I have put all the files you need in the /gscratch/ilahie/mccoygrp/hocl/eq_jobs directory on MOX.  Let me know if it looks like I missed anything"
   ]
  },
  {
   "cell_type": "markdown",
   "id": "cdc2fb84-d467-4ef3-87b2-7ce4cb36655b",
   "metadata": {},
   "source": [
    "# Me"
   ]
  },
  {
   "cell_type": "markdown",
   "id": "294220e6-d565-4c5b-a160-452a28872087",
   "metadata": {},
   "source": [
    "- I found the directory and used cubegen with the options specified by Ryan above to make ```br_hocl_tz.cube```"
   ]
  },
  {
   "cell_type": "markdown",
   "id": "cb64d86f-634e-4cb5-964e-a2d5df79c409",
   "metadata": {},
   "source": [
    "General Plan:\n",
    "- Make a class that reads in a cube file and gives functionality\n",
    "- "
   ]
  },
  {
   "cell_type": "code",
   "execution_count": 37,
   "id": "2b7ee6c3-c552-46be-b00e-89e6d3b60ee5",
   "metadata": {},
   "outputs": [],
   "source": [
    "import sys\n",
    "sys.path.append('./CGH_Toolbox/')\n",
    "import density_cube as dc\n",
    "import matplotlib.pyplot as plt\n",
    "from matplotlib import ticker, cm\n",
    "from matplotlib.colors import LogNorm\n",
    "import numpy as np\n",
    "import nglview as nv\n",
    "import MDAnalysis as mda"
   ]
  },
  {
   "cell_type": "code",
   "execution_count": 2,
   "id": "39a091d4-d9a7-4997-a2ce-f872d99bb98b",
   "metadata": {},
   "outputs": [
    {
     "name": "stdout",
     "output_type": "stream",
     "text": [
      "DXDYDZO 0.2721861170212758 0.27301032876712306 0.27301032876712306 0.02028729413998761\n",
      "hello\n"
     ]
    }
   ],
   "source": [
    "c = dc.cube(filename='HOCl/br_hocl_tz.cube')"
   ]
  },
  {
   "cell_type": "code",
   "execution_count": 3,
   "id": "b176b21c-41fe-4753-b277-82b1209ade8a",
   "metadata": {},
   "outputs": [
    {
     "data": {
      "text/plain": [
       "-12.5833"
      ]
     },
     "execution_count": 3,
     "metadata": {},
     "output_type": "execute_result"
    }
   ],
   "source": [
    "c.cdsX[0]"
   ]
  },
  {
   "cell_type": "code",
   "execution_count": 23,
   "id": "27f6c33b-f504-4e59-a75b-3eba6e163e5b",
   "metadata": {},
   "outputs": [
    {
     "data": {
      "text/plain": [
       "array([[ 2.629767e+00,  1.881155e+00,  3.000000e-06],\n",
       "       [ 8.553900e-01,  1.139494e+00, -3.800000e-05],\n",
       "       [ 4.506029e+00, -6.919500e-01,  0.000000e+00],\n",
       "       [-2.814172e+00, -1.264450e-01,  0.000000e+00]])"
      ]
     },
     "execution_count": 23,
     "metadata": {},
     "output_type": "execute_result"
    }
   ],
   "source": [
    "c.atmAr"
   ]
  },
  {
   "cell_type": "code",
   "execution_count": 11,
   "id": "4958ea7c-570a-4826-b23f-51e076dd75ca",
   "metadata": {},
   "outputs": [],
   "source": [
    "density_Zsum = np.zeros(c.density[:,:,0].shape)"
   ]
  },
  {
   "cell_type": "code",
   "execution_count": 23,
   "id": "96e3ad1a-9b4b-4ce3-ab55-f59e122a986b",
   "metadata": {},
   "outputs": [
    {
     "data": {
      "text/plain": [
       "(95, 74)"
      ]
     },
     "execution_count": 23,
     "metadata": {},
     "output_type": "execute_result"
    }
   ],
   "source": [
    "c.density[:,:,0].shape"
   ]
  },
  {
   "cell_type": "code",
   "execution_count": 24,
   "id": "f67e6e01-6b6c-4053-89c0-c2546fb2c759",
   "metadata": {},
   "outputs": [
    {
     "data": {
      "text/plain": [
       "(95, 74, 74)"
      ]
     },
     "execution_count": 24,
     "metadata": {},
     "output_type": "execute_result"
    }
   ],
   "source": [
    "c.density.shape"
   ]
  },
  {
   "cell_type": "code",
   "execution_count": 4,
   "id": "2d2f8923-ba8d-438d-8c3d-68675a4ea92a",
   "metadata": {},
   "outputs": [
    {
     "data": {
      "text/plain": [
       "['O', 'H', 'Cl', 'Br']"
      ]
     },
     "execution_count": 4,
     "metadata": {},
     "output_type": "execute_result"
    }
   ],
   "source": [
    "c.atmStr"
   ]
  },
  {
   "cell_type": "code",
   "execution_count": 12,
   "id": "f50c9b66-8d73-43c0-80f9-f7e438a80ea0",
   "metadata": {},
   "outputs": [],
   "source": [
    "for i in range(len(c.density[0,0,:])):\n",
    "    density_Zsum = density_Zsum + c.density[:,:,i]"
   ]
  },
  {
   "cell_type": "code",
   "execution_count": 34,
   "id": "c758aae7-1ddc-423b-8924-ceaa36871763",
   "metadata": {},
   "outputs": [
    {
     "data": {
      "text/plain": [
       "0.05924383561643687"
      ]
     },
     "execution_count": 34,
     "metadata": {},
     "output_type": "execute_result"
    }
   ],
   "source": [
    "c.cdsZ[36]"
   ]
  },
  {
   "cell_type": "code",
   "execution_count": 6,
   "id": "f90ef0da-a6af-44ea-a922-8a1876fd4fe8",
   "metadata": {},
   "outputs": [
    {
     "data": {
      "application/vnd.jupyter.widget-view+json": {
       "model_id": "b5d903e9d7b3444f9ba3f2d8bf3ae122",
       "version_major": 2,
       "version_minor": 0
      },
      "text/plain": [
       "NGLWidget()"
      ]
     },
     "metadata": {},
     "output_type": "display_data"
    }
   ],
   "source": [
    "br_hocl = mda.Universe(\"./HOCl/br_hocl_tz.xyz\")\n",
    "br_hocl_view = nv.show_mdanalysis(br_hocl)\n",
    "br_hocl_view"
   ]
  },
  {
   "cell_type": "code",
   "execution_count": 47,
   "id": "804c8bf8-8008-4664-a183-d8ebba62095c",
   "metadata": {},
   "outputs": [
    {
     "data": {
      "application/vnd.jupyter.widget-view+json": {
       "model_id": "7cea88e8758d4fce9490bda34d97b3b6",
       "version_major": 2,
       "version_minor": 0
      },
      "text/plain": [
       "Canvas(toolbar=Toolbar(toolitems=[('Home', 'Reset original view', 'home', 'home'), ('Back', 'Back to previous …"
      ]
     },
     "metadata": {},
     "output_type": "display_data"
    },
    {
     "data": {
      "text/plain": [
       "(-10.0, 10.0)"
      ]
     },
     "execution_count": 47,
     "metadata": {},
     "output_type": "execute_result"
    }
   ],
   "source": [
    "fig = plt.figure()\n",
    "ax = plt.axes()\n",
    "\n",
    "ax.scatter(c.atmAr[:,0][0], c.atmAr[:,1][0], color='red')\n",
    "ax.scatter(c.atmAr[:,0][1], c.atmAr[:,1][1], color='gray')\n",
    "ax.scatter(c.atmAr[:,0][2], c.atmAr[:,1][2], color='green')\n",
    "ax.scatter(c.atmAr[:,0][3], c.atmAr[:,1][3], color='maroon')\n",
    "ax.set_xlim(-12,12)\n",
    "ax.set_ylim(-10,10)"
   ]
  },
  {
   "cell_type": "code",
   "execution_count": 46,
   "id": "e7c97776-023c-42e5-b170-60064ba96248",
   "metadata": {},
   "outputs": [
    {
     "data": {
      "application/vnd.jupyter.widget-view+json": {
       "model_id": "02a530f917514090873fc9aeda6aa95f",
       "version_major": 2,
       "version_minor": 0
      },
      "text/plain": [
       "Canvas(toolbar=Toolbar(toolitems=[('Home', 'Reset original view', 'home', 'home'), ('Back', 'Back to previous …"
      ]
     },
     "metadata": {},
     "output_type": "display_data"
    }
   ],
   "source": [
    "%matplotlib widget\n",
    "fig, ax = plt.subplots()\n",
    "CS = ax.contourf(c.cdsX, c.cdsY, c.density[:,:,35].T)\n",
    "ax.scatter(c.atmAr[:,0][0], c.atmAr[:,1][0], color='red')\n",
    "ax.scatter(c.atmAr[:,0][1], c.atmAr[:,1][1], color='gray')\n",
    "ax.scatter(c.atmAr[:,0][2], c.atmAr[:,1][2], color='green')\n",
    "ax.scatter(c.atmAr[:,0][3], c.atmAr[:,1][3], color='maroon')\n",
    "#ax.clabel(CS, inline=True, fontsize=10)\n",
    "#ax.set_title('Simplest default with labels')\n",
    "fig.colorbar(CS)\n",
    "plt.show()"
   ]
  },
  {
   "cell_type": "code",
   "execution_count": 46,
   "id": "cd0284f1-62cf-48db-9e2b-f1d8ef16991d",
   "metadata": {},
   "outputs": [
    {
     "data": {
      "application/vnd.jupyter.widget-view+json": {
       "model_id": "02a530f917514090873fc9aeda6aa95f",
       "version_major": 2,
       "version_minor": 0
      },
      "text/plain": [
       "Canvas(toolbar=Toolbar(toolitems=[('Home', 'Reset original view', 'home', 'home'), ('Back', 'Back to previous …"
      ]
     },
     "metadata": {},
     "output_type": "display_data"
    }
   ],
   "source": [
    "%matplotlib widget\n",
    "slices = [20,30,40,50]\n",
    "fig, ax = plt.subplots(2,2)\n",
    "for i in range(len(2)):\n",
    "    for j in range(len(2)):\n",
    "        CS = ax[i,j].contourf(c.cdsX, c.cdsY, c.density[:,:,slices[2*(i+1)+j+1]].T)\n",
    "        ax[i,j].scatter(c.atmAr[:,0][0], c.atmAr[:,1][0], color='red')\n",
    "        ax[i,j].scatter(c.atmAr[:,0][1], c.atmAr[:,1][1], color='gray')\n",
    "        ax[i,j].scatter(c.atmAr[:,0][2], c.atmAr[:,1][2], color='green')\n",
    "        ax[i,j].scatter(c.atmAr[:,0][3], c.atmAr[:,1][3], color='maroon')\n",
    "        #ax.clabel(CS, inline=True, fontsize=10)\n",
    "        #ax.set_title('Simplest default with labels')\n",
    "        fig.colorbar(CS)\n",
    "plt.show()"
   ]
  },
  {
   "cell_type": "code",
   "execution_count": 29,
   "id": "5dd279ad-8452-450e-89b3-20b48fe1b11a",
   "metadata": {},
   "outputs": [
    {
     "ename": "AttributeError",
     "evalue": "'Figure' object has no attribute 'scale'",
     "output_type": "error",
     "traceback": [
      "\u001b[0;31m---------------------------------------------------------------------------\u001b[0m",
      "\u001b[0;31mAttributeError\u001b[0m                            Traceback (most recent call last)",
      "\u001b[0;32m<ipython-input-29-599a18ca821c>\u001b[0m in \u001b[0;36m<module>\u001b[0;34m\u001b[0m\n\u001b[1;32m      6\u001b[0m \u001b[0max\u001b[0m\u001b[0;34m.\u001b[0m\u001b[0mscatter\u001b[0m\u001b[0;34m(\u001b[0m\u001b[0mc\u001b[0m\u001b[0;34m.\u001b[0m\u001b[0matmAr\u001b[0m\u001b[0;34m[\u001b[0m\u001b[0;34m:\u001b[0m\u001b[0;34m,\u001b[0m\u001b[0;36m0\u001b[0m\u001b[0;34m]\u001b[0m\u001b[0;34m[\u001b[0m\u001b[0;36m2\u001b[0m\u001b[0;34m]\u001b[0m\u001b[0;34m,\u001b[0m \u001b[0mc\u001b[0m\u001b[0;34m.\u001b[0m\u001b[0matmAr\u001b[0m\u001b[0;34m[\u001b[0m\u001b[0;34m:\u001b[0m\u001b[0;34m,\u001b[0m\u001b[0;36m1\u001b[0m\u001b[0;34m]\u001b[0m\u001b[0;34m[\u001b[0m\u001b[0;36m2\u001b[0m\u001b[0;34m]\u001b[0m\u001b[0;34m,\u001b[0m \u001b[0mcolor\u001b[0m\u001b[0;34m=\u001b[0m\u001b[0;34m'green'\u001b[0m\u001b[0;34m)\u001b[0m\u001b[0;34m\u001b[0m\u001b[0;34m\u001b[0m\u001b[0m\n\u001b[1;32m      7\u001b[0m \u001b[0max\u001b[0m\u001b[0;34m.\u001b[0m\u001b[0mscatter\u001b[0m\u001b[0;34m(\u001b[0m\u001b[0mc\u001b[0m\u001b[0;34m.\u001b[0m\u001b[0matmAr\u001b[0m\u001b[0;34m[\u001b[0m\u001b[0;34m:\u001b[0m\u001b[0;34m,\u001b[0m\u001b[0;36m0\u001b[0m\u001b[0;34m]\u001b[0m\u001b[0;34m[\u001b[0m\u001b[0;36m3\u001b[0m\u001b[0;34m]\u001b[0m\u001b[0;34m,\u001b[0m \u001b[0mc\u001b[0m\u001b[0;34m.\u001b[0m\u001b[0matmAr\u001b[0m\u001b[0;34m[\u001b[0m\u001b[0;34m:\u001b[0m\u001b[0;34m,\u001b[0m\u001b[0;36m1\u001b[0m\u001b[0;34m]\u001b[0m\u001b[0;34m[\u001b[0m\u001b[0;36m3\u001b[0m\u001b[0;34m]\u001b[0m\u001b[0;34m,\u001b[0m \u001b[0mcolor\u001b[0m\u001b[0;34m=\u001b[0m\u001b[0;34m'maroon'\u001b[0m\u001b[0;34m)\u001b[0m\u001b[0;34m\u001b[0m\u001b[0;34m\u001b[0m\u001b[0m\n\u001b[0;32m----> 8\u001b[0;31m \u001b[0mfig\u001b[0m\u001b[0;34m.\u001b[0m\u001b[0mscale\u001b[0m\u001b[0;34m(\u001b[0m\u001b[0;34m'log'\u001b[0m\u001b[0;34m)\u001b[0m\u001b[0;34m\u001b[0m\u001b[0;34m\u001b[0m\u001b[0m\n\u001b[0m\u001b[1;32m      9\u001b[0m \u001b[0;31m#ax.clabel(CS, inline=True, fontsize=10)\u001b[0m\u001b[0;34m\u001b[0m\u001b[0;34m\u001b[0m\u001b[0;34m\u001b[0m\u001b[0m\n\u001b[1;32m     10\u001b[0m \u001b[0;31m#ax.set_title('Simplest default with labels')\u001b[0m\u001b[0;34m\u001b[0m\u001b[0;34m\u001b[0m\u001b[0;34m\u001b[0m\u001b[0m\n",
      "\u001b[0;31mAttributeError\u001b[0m: 'Figure' object has no attribute 'scale'"
     ]
    },
    {
     "data": {
      "image/png": "[encoded data removed]",
      "text/plain": [
       "<Figure size 432x288 with 2 Axes>"
      ]
     },
     "metadata": {
      "needs_background": "light"
     },
     "output_type": "display_data"
    }
   ],
   "source": [
    "fig, ax = plt.subplots()\n",
    "CS = ax.contourf(c.cdsX, c.cdsY, density_Zsum.T, locator=ticker.LogLocator())\n",
    "fig.colorbar(CS)\n",
    "ax.scatter(c.atmAr[:,0][0], c.atmAr[:,1][0], color='red')\n",
    "ax.scatter(c.atmAr[:,0][1], c.atmAr[:,1][1], color='gray')\n",
    "ax.scatter(c.atmAr[:,0][2], c.atmAr[:,1][2], color='green')\n",
    "ax.scatter(c.atmAr[:,0][3], c.atmAr[:,1][3], color='maroon')\n",
    "fig.scale('log')\n",
    "#ax.clabel(CS, inline=True, fontsize=10)\n",
    "#ax.set_title('Simplest default with labels')\n",
    "#CS.colorbar()\n",
    "plt.show()"
   ]
  },
  {
   "cell_type": "code",
   "execution_count": 17,
   "id": "22a8a3e5-0e78-44ac-9530-36ff81856f25",
   "metadata": {},
   "outputs": [
    {
     "data": {
      "text/plain": [
       "2.39825e-13"
      ]
     },
     "execution_count": 17,
     "metadata": {},
     "output_type": "execute_result"
    }
   ],
   "source": [
    "c.density.min()"
   ]
  },
  {
   "cell_type": "code",
   "execution_count": 48,
   "id": "44215afa-2fd5-46d1-8a75-dea2246cee59",
   "metadata": {},
   "outputs": [
    {
     "data": {
      "application/vnd.jupyter.widget-view+json": {
       "model_id": "a08a7a3cf87d4509a6d55191cb571808",
       "version_major": 2,
       "version_minor": 0
      },
      "text/plain": [
       "Canvas(toolbar=Toolbar(toolitems=[('Home', 'Reset original view', 'home', 'home'), ('Back', 'Back to previous …"
      ]
     },
     "metadata": {},
     "output_type": "display_data"
    }
   ],
   "source": [
    "fig, ax = plt.subplots()\n",
    "CS = ax.contourf(c.cdsX, c.cdsY, density_Zsum.T, norm=LogNorm())\n",
    "C = ax.contour(c.cdsX, c.cdsY, density_Zsum.T, norm=LogNorm(), colors='k')\n",
    "fig.colorbar(CS)\n",
    "ax.scatter(c.atmAr[:,0][0], c.atmAr[:,1][0], color='red')\n",
    "ax.scatter(c.atmAr[:,0][1], c.atmAr[:,1][1], color='gray')\n",
    "ax.scatter(c.atmAr[:,0][2], c.atmAr[:,1][2], color='green')\n",
    "ax.scatter(c.atmAr[:,0][3], c.atmAr[:,1][3], color='maroon')\n",
    "#ax.clabel(CS, inline=True, fontsize=10)\n",
    "#ax.set_title('Simplest default with labels')\n",
    "#CS.colorbar()\n",
    "plt.show()"
   ]
  },
  {
   "cell_type": "code",
   "execution_count": 26,
   "id": "73cfeb4b-65da-4d52-a65a-498ba9d88891",
   "metadata": {},
   "outputs": [
    {
     "data": {
      "text/plain": [
       "array([ 2.629767,  0.85539 ,  4.506029, -2.814172])"
      ]
     },
     "execution_count": 26,
     "metadata": {},
     "output_type": "execute_result"
    }
   ],
   "source": [
    "c.atmAr[:,0]"
   ]
  },
  {
   "cell_type": "markdown",
   "id": "99b2269b-65de-401e-a36f-81945fcfe9ba",
   "metadata": {},
   "source": [
    "chlorine is green"
   ]
  },
  {
   "cell_type": "markdown",
   "id": "cd180145-e5de-4fec-9198-c699c827e7b3",
   "metadata": {},
   "source": [
    "run colinear jobs for Cl, Br, I"
   ]
  }
 ],
 "metadata": {
  "kernelspec": {
   "display_name": "Python 3",
   "language": "python",
   "name": "python3"
  },
  "language_info": {
   "codemirror_mode": {
    "name": "ipython",
    "version": 3
   },
   "file_extension": ".py",
   "mimetype": "text/x-python",
   "name": "python",
   "nbconvert_exporter": "python",
   "pygments_lexer": "ipython3",
   "version": "3.8.8"
  }
 },
 "nbformat": 4,
 "nbformat_minor": 5
}
