{
 "cells": [
  {
   "cell_type": "markdown",
   "metadata": {},
   "source": [
    "# 1-19-21: Ryan, Mark, Fenris, Coire"
   ]
  },
  {
   "cell_type": "markdown",
   "metadata": {},
   "source": [
    "- Ryan\n",
    "    - APE averaging code is not averaging correctly"
   ]
  },
  {
   "cell_type": "markdown",
   "metadata": {},
   "source": [
    "# Mark and Ryan- Make me the new tech guy 1/19/21"
   ]
  },
  {
   "cell_type": "markdown",
   "metadata": {},
   "source": [
    "- Led by Mark\n",
    "- Intro to github\n",
    "    - use the desktop app\n",
    "- intro to containers\n",
    "    - provides a \"container\" with a specific environment"
   ]
  },
  {
   "cell_type": "markdown",
   "metadata": {},
   "source": [
    "# Ryan- water sims 2-22-21"
   ]
  },
  {
   "cell_type": "markdown",
   "metadata": {},
   "source": [
    "- 5 independent water simulations between dt 1 and 10\n",
    "    - every 0.5 dt\n",
    "    - total 95 simulations\n",
    "- Ryan shared a bunch of files for me in Google Shared Drive \\People\\Ryan\\for_coire\\...\n",
    "- Included PS PE surface\n",
    "    - I need to compile this- cd into it and run \"make\"\n",
    "- Python on mox\n",
    "    - some complication\n",
    "    - for now, the path of least resistance is to use on of the anaconda installations already on mox\n",
    "    - \"module avail anaconda\" and pick the latest anaconda 3\n",
    "    - include this at the beginning of the run script with a \"module load anaconda_installation_name\"\n",
    "        - ryan did this for me already\n",
    "    - in the future, I should look into building my own anaconda installation\n",
    "    - [use this link for more information](https://wiki.cac.washington.edu/display/hyakusers/Hyak+python+programming)\n",
    "- Change between scripts:\n",
    "    - output name...however you decide to structure the files, make sure this will not override the names as you run\n",
    "        - when naming non-integer dt use \"1p5\" instead of \"1.5\"\n",
    "    - timesteps to get the same total sim time of 200,000 (atomic time units)\n",
    "- Name the .py run file and .sh submission file the same thing (the only difference should be the extension) so it is easy to see which .py file is run by the .sh file\n",
    "- Run this all in ilahie\n",
    "    - make dir \\gscratch\\ilahie\\cgavinh\n",
    "    - then specify directory in sbatch file\n",
    "- Post meeting, my notes:\n",
    "    - write a python script to make the scripts\n",
    "    - run 2 tests first: \n",
    "        - 1. test the basic code to make sure everything works\n",
    "        - 2. run the full thing with very small sims to check my run scripts\n",
    "    "
   ]
  },
  {
   "cell_type": "markdown",
   "metadata": {},
   "source": [
    "# Joe 2-22-21"
   ]
  },
  {
   "cell_type": "markdown",
   "metadata": {},
   "source": [
    "- Talkin about MBE\n",
    "- New way of talking about MBE\n",
    "    - From Anne: Key point is that the hamiltonian for a system only has one and two-body terms...thats it, clap hands\n",
    "    - There is no three-body electron repulsive interaction...think more about this\n",
    "    - Need exact wavefunction for this\n",
    "\n",
    "<img src=\"img/Joe_2-22-21.png\"/>"
   ]
  },
  {
   "cell_type": "markdown",
   "metadata": {},
   "source": [
    "BSSE- unbalanced systems\n",
    "- water dimer\n",
    "    - two monomers\n",
    "    - dimer -2*monomer energy would give interaction energy...but not\n",
    "    - bascially if you do this, some of the calculations will be more...accurate... becuase you are using different numbers of basis sets for different calcs\n",
    "    - you can correct this by running each one with the same number of basis sets\n",
    "    "
   ]
  },
  {
   "cell_type": "markdown",
   "metadata": {},
   "source": [
    "# Water_calcs"
   ]
  },
  {
   "cell_type": "markdown",
   "metadata": {},
   "source": [
    "- Transfer files from google drive to my computer to mox- /gscratch/ilahie/cgavinh/water_calcs\n",
    "- run make file in PS folder\n",
    "    - error: \"ModuleNotFoundError: No module named 'numpy'\"\n",
    "    - fixed it by loading anaconda first- \"module load anaconda3_5.3\"\n",
    "    - it looks like I am now getting an error because I do not have a fortran compiler\n",
    "    - I have the compiler, but its not working...Ryan and I will figure this out later, in the meantime he sent me a compiled potential\n",
    "- Now I need to install pyvibdmc\n",
    "    - after module loading anaconda, run \"pip install pyvibdmc --user\"\n",
    "- I solved all fo the issues by installing my own anaconda on mox...Marks moral of the story- \"dont use the pre-isntalled anaconda\"\n"
   ]
  },
  {
   "cell_type": "code",
   "execution_count": 3,
   "metadata": {},
   "outputs": [],
   "source": [
    "string = \"hello my name is coire\""
   ]
  },
  {
   "cell_type": "code",
   "execution_count": 4,
   "metadata": {},
   "outputs": [
    {
     "data": {
      "text/plain": [
       "1"
      ]
     },
     "execution_count": 4,
     "metadata": {},
     "output_type": "execute_result"
    }
   ],
   "source": [
    "string.find(\"ello\")"
   ]
  },
  {
   "cell_type": "code",
   "execution_count": 6,
   "metadata": {},
   "outputs": [],
   "source": [
    "old_string = \"I want to finish this assignment\"\n",
    "change = [\"want\", \"need\"]"
   ]
  },
  {
   "cell_type": "code",
   "execution_count": 7,
   "metadata": {},
   "outputs": [
    {
     "data": {
      "text/plain": [
       "4"
      ]
     },
     "execution_count": 7,
     "metadata": {},
     "output_type": "execute_result"
    }
   ],
   "source": [
    "len(change[0])"
   ]
  },
  {
   "cell_type": "code",
   "execution_count": 10,
   "metadata": {},
   "outputs": [
    {
     "data": {
      "text/plain": [
       "'I need to finish this assignment'"
      ]
     },
     "execution_count": 10,
     "metadata": {},
     "output_type": "execute_result"
    }
   ],
   "source": [
    "old_string[0:old_string.find(change[0])] + change[1] + old_string[old_string.find(change[0])+len(change[0]):]"
   ]
  },
  {
   "cell_type": "code",
   "execution_count": 21,
   "metadata": {},
   "outputs": [],
   "source": [
    "def modify_file(file_name, changes, new_file_name):\n",
    "    with open(file_name, 'r') as f:\n",
    "        with open(new_file_name, 'w') as nf:\n",
    "            lines = f.readlines()\n",
    "            for line in lines:\n",
    "                for change in changes:\n",
    "                    if line.find(change[0]) != -1:\n",
    "                        line = line[0:line.find(change[0])] + change[1] + line[line.find(change[0])+len(change[0]):]\n",
    "                nf.write(line)"
   ]
  },
  {
   "cell_type": "code",
   "execution_count": 23,
   "metadata": {},
   "outputs": [],
   "source": [
    "modify_file(\"water_calcs/test_file.txt\", [[\"want\", \"need\"], [\"1212\", \"6464\"], [\"this\", \"every\"]], \"water_calcs/test_file_modified.txt\")"
   ]
  },
  {
   "cell_type": "code",
   "execution_count": 24,
   "metadata": {},
   "outputs": [],
   "source": [
    "par_string = \"hello\\\" I\""
   ]
  },
  {
   "cell_type": "code",
   "execution_count": 25,
   "metadata": {},
   "outputs": [
    {
     "data": {
      "text/plain": [
       "'hello\" I'"
      ]
     },
     "execution_count": 25,
     "metadata": {},
     "output_type": "execute_result"
    }
   ],
   "source": [
    "par_string"
   ]
  },
  {
   "cell_type": "code",
   "execution_count": 28,
   "metadata": {},
   "outputs": [
    {
     "data": {
      "text/plain": [
       "float"
      ]
     },
     "execution_count": 28,
     "metadata": {},
     "output_type": "execute_result"
    }
   ],
   "source": [
    "type(5//2.5)"
   ]
  },
  {
   "cell_type": "markdown",
   "metadata": {},
   "source": [
    "# Scrum 2-25-21"
   ]
  },
  {
   "cell_type": "markdown",
   "metadata": {},
   "source": [
    "look at december in jpc, picture of clouds from Annes roof to prevent copyright"
   ]
  },
  {
   "cell_type": "markdown",
   "metadata": {},
   "source": [
    "## Anne and Rachel Friday"
   ]
  },
  {
   "cell_type": "markdown",
   "metadata": {},
   "source": [
    "Quick view from Anne:\n",
    "<img src=\"example_5-21-21.png\">\n",
    "- HOO Bend (A3)\n",
    "- OH (B4)\n",
    "- CH stretch in CH2 group (B5 and B6)\n",
    "- OO stretch (B3)\n",
    "- COO Bend (A2)\n",
    "- OOC (...same picture...)\n",
    "- CCO (...which one?)\n"
   ]
  },
  {
   "cell_type": "code",
   "execution_count": null,
   "metadata": {},
   "outputs": [],
   "source": []
  }
 ],
 "metadata": {
  "kernelspec": {
   "display_name": "Python 3",
   "language": "python",
   "name": "python3"
  },
  "language_info": {
   "codemirror_mode": {
    "name": "ipython",
    "version": 3
   },
   "file_extension": ".py",
   "mimetype": "text/x-python",
   "name": "python",
   "nbconvert_exporter": "python",
   "pygments_lexer": "ipython3",
   "version": "3.8.8"
  }
 },
 "nbformat": 4,
 "nbformat_minor": 4
}
